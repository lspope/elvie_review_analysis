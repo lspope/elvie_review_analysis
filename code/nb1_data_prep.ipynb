{
 "metadata": {
  "language_info": {
   "codemirror_mode": {
    "name": "ipython",
    "version": 3
   },
   "file_extension": ".py",
   "mimetype": "text/x-python",
   "name": "python",
   "nbconvert_exporter": "python",
   "pygments_lexer": "ipython3",
   "version": "3.6.9-final"
  },
  "orig_nbformat": 2,
  "kernelspec": {
   "name": "flatiron",
   "display_name": "flatiron"
  }
 },
 "nbformat": 4,
 "nbformat_minor": 2,
 "cells": [
  {
   "cell_type": "markdown",
   "metadata": {},
   "source": [
    "## Prepare Review Data\n",
    "* Prepare the collected data for analysis."
   ]
  },
  {
   "cell_type": "code",
   "execution_count": 92,
   "metadata": {},
   "outputs": [],
   "source": [
    "# Import the required libraries\n",
    "import pandas as pd\n",
    "import numpy as np"
   ]
  },
  {
   "cell_type": "code",
   "execution_count": 93,
   "metadata": {},
   "outputs": [
    {
     "output_type": "stream",
     "name": "stdout",
     "text": [
      "<class 'pandas.core.frame.DataFrame'>\nIndex: 1500 entries, 60cfb8f9f9f48706707b8f10 to 5e087630c845450914ada0d0\nData columns (total 7 columns):\n #   Column           Non-Null Count  Dtype              \n---  ------           --------------  -----              \n 0   star_rating      1500 non-null   object             \n 1   location         1500 non-null   object             \n 2   datetime         1500 non-null   datetime64[ns, UTC]\n 3   content          1500 non-null   object             \n 4   reviewYear       1500 non-null   int64              \n 5   reviewYearMonth  1500 non-null   object             \n 6   rating           1500 non-null   object             \ndtypes: datetime64[ns, UTC](1), int64(1), object(5)\nmemory usage: 93.8+ KB\n"
     ]
    }
   ],
   "source": [
    "raw_reviews_df = pd.read_csv('../data/reviews.csv', index_col=0)\n",
    "reviews_df.info()"
   ]
  },
  {
   "cell_type": "code",
   "execution_count": 96,
   "metadata": {},
   "outputs": [],
   "source": [
    "# DATA TYPE CONVERSIONS\n",
    "#\n",
    "# Set the datetime column to datetime data type\n",
    "raw_reviews_df['datetime'] = pd.to_datetime(raw_reviews_df['datetime'])"
   ]
  },
  {
   "cell_type": "code",
   "execution_count": 97,
   "metadata": {},
   "outputs": [],
   "source": [
    "# NEW COLUMN CREATION\n",
    "#\n",
    "# Create new date solumns - reviewYear as integer and reviewDate as string with format YYYY-MM\n",
    "raw_reviews_df['reviewYear'] = raw_reviews_df.apply(lambda row: row['datetime'].year, axis=1)\n",
    "raw_reviews_df['reviewYearMonth'] = raw_reviews_df.apply(lambda row: row['datetime'].strftime('%Y-%m'), axis=1)\n",
    "\n",
    "# Create simplified rating column - the first char of rating can be cast to integer 1-5\n",
    "raw_reviews_df['rating'] = raw_reviews_df.apply(lambda row: row['star_rating'][0], axis=1)"
   ]
  },
  {
   "cell_type": "code",
   "execution_count": 98,
   "metadata": {},
   "outputs": [
    {
     "output_type": "stream",
     "name": "stdout",
     "text": [
      "<class 'pandas.core.frame.DataFrame'>\nIndex: 1500 entries, a98cffff-99b6-4ab4-a17f-50e328c1fab3 to a6104a9d-a3a7-4655-a953-46174ce109a8\nData columns (total 7 columns):\n #   Column           Non-Null Count  Dtype              \n---  ------           --------------  -----              \n 0   star_rating      1500 non-null   object             \n 1   country          1500 non-null   object             \n 2   datetime         1500 non-null   datetime64[ns, UTC]\n 3   content          1500 non-null   object             \n 4   reviewYear       1500 non-null   int64              \n 5   reviewYearMonth  1500 non-null   object             \n 6   rating           1500 non-null   object             \ndtypes: datetime64[ns, UTC](1), int64(1), object(5)\nmemory usage: 93.8+ KB\n"
     ]
    }
   ],
   "source": [
    "raw_reviews_df.info()"
   ]
  },
  {
   "cell_type": "code",
   "execution_count": 99,
   "metadata": {},
   "outputs": [],
   "source": [
    "raw_reviews_df.to_csv('../data/prepped_reviews.csv', index=True, header=True)"
   ]
  },
  {
   "cell_type": "code",
   "execution_count": null,
   "metadata": {},
   "outputs": [],
   "source": []
  }
 ]
}