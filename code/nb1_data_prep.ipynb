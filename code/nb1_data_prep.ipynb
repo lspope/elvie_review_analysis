{
 "metadata": {
  "language_info": {
   "codemirror_mode": {
    "name": "ipython",
    "version": 3
   },
   "file_extension": ".py",
   "mimetype": "text/x-python",
   "name": "python",
   "nbconvert_exporter": "python",
   "pygments_lexer": "ipython3",
   "version": "3.6.9-final"
  },
  "orig_nbformat": 2,
  "kernelspec": {
   "name": "flatiron",
   "display_name": "flatiron"
  }
 },
 "nbformat": 4,
 "nbformat_minor": 2,
 "cells": [
  {
   "cell_type": "markdown",
   "metadata": {},
   "source": [
    "## Prepare Review Data\n",
    "* Prepare the collected data for analysis."
   ]
  },
  {
   "cell_type": "code",
   "execution_count": 73,
   "metadata": {},
   "outputs": [],
   "source": [
    "# Import the required libraries\n",
    "import pandas as pd\n",
    "import numpy as np"
   ]
  },
  {
   "cell_type": "code",
   "execution_count": 74,
   "metadata": {},
   "outputs": [],
   "source": [
    "#  Functions for Duplicate checks \n",
    "def get_exact_dups(df):\n",
    "    '''\n",
    "    Returns duplicates\n",
    "    '''\n",
    "    dups = df[df.duplicated()]\n",
    "    return dups\n",
    "\n",
    "def get_review_text_dups(df, col_names):\n",
    "    '''\n",
    "    Returns duplicates based on given column name\n",
    "    '''\n",
    "    dups = df[df.duplicated(subset=col_names)]\n",
    "    return dups"
   ]
  },
  {
   "cell_type": "code",
   "execution_count": 75,
   "metadata": {},
   "outputs": [
    {
     "output_type": "execute_result",
     "data": {
      "text/plain": [
       "                                           star_rating country  \\\n",
       "id                                                               \n",
       "a98cffff-99b6-4ab4-a17f-50e328c1fab3  3 stars: Average      GB   \n",
       "\n",
       "                                                       datetime  \\\n",
       "id                                                                \n",
       "a98cffff-99b6-4ab4-a17f-50e328c1fab3  2021-06-21T07:42:01+00:00   \n",
       "\n",
       "                                                                                content  \n",
       "id                                                                                       \n",
       "a98cffff-99b6-4ab4-a17f-50e328c1fab3  The product itself is wonderful               ...  "
      ],
      "text/html": "<div>\n<style scoped>\n    .dataframe tbody tr th:only-of-type {\n        vertical-align: middle;\n    }\n\n    .dataframe tbody tr th {\n        vertical-align: top;\n    }\n\n    .dataframe thead th {\n        text-align: right;\n    }\n</style>\n<table border=\"1\" class=\"dataframe\">\n  <thead>\n    <tr style=\"text-align: right;\">\n      <th></th>\n      <th>star_rating</th>\n      <th>country</th>\n      <th>datetime</th>\n      <th>content</th>\n    </tr>\n    <tr>\n      <th>id</th>\n      <th></th>\n      <th></th>\n      <th></th>\n      <th></th>\n    </tr>\n  </thead>\n  <tbody>\n    <tr>\n      <th>a98cffff-99b6-4ab4-a17f-50e328c1fab3</th>\n      <td>3 stars: Average</td>\n      <td>GB</td>\n      <td>2021-06-21T07:42:01+00:00</td>\n      <td>The product itself is wonderful               ...</td>\n    </tr>\n  </tbody>\n</table>\n</div>"
     },
     "metadata": {},
     "execution_count": 75
    }
   ],
   "source": [
    "raw_reviews_df = pd.read_csv('../data/reviews.csv', index_col=0)\n",
    "raw_reviews_df.head(1)"
   ]
  },
  {
   "cell_type": "code",
   "execution_count": 76,
   "metadata": {},
   "outputs": [
    {
     "output_type": "stream",
     "name": "stdout",
     "text": [
      "<class 'pandas.core.frame.DataFrame'>\nIndex: 1500 entries, 60cfb8f9f9f48706707b8f10 to 5e087630c845450914ada0d0\nData columns (total 7 columns):\n #   Column           Non-Null Count  Dtype              \n---  ------           --------------  -----              \n 0   star_rating      1500 non-null   object             \n 1   location         1500 non-null   object             \n 2   datetime         1500 non-null   datetime64[ns, UTC]\n 3   content          1500 non-null   object             \n 4   reviewYear       1500 non-null   int64              \n 5   reviewYearMonth  1500 non-null   object             \n 6   rating           1500 non-null   object             \ndtypes: datetime64[ns, UTC](1), int64(1), object(5)\nmemory usage: 93.8+ KB\n"
     ]
    }
   ],
   "source": [
    "reviews_df.info()"
   ]
  },
  {
   "cell_type": "code",
   "execution_count": 77,
   "metadata": {},
   "outputs": [
    {
     "output_type": "stream",
     "name": "stdout",
     "text": [
      "total review count 1500\ntotal unique content: 1493\n"
     ]
    }
   ],
   "source": [
    "# check for duplicates where they might be troublesome or interesting\n",
    "print(f\"total review count {raw_reviews_df.shape[0]}\")\n",
    "\n",
    "col_names=['content']\n",
    "for col_name in col_names:\n",
    "    print(f\"total unique {col_name}: {raw_reviews_df[col_name].unique().size}\")\n"
   ]
  },
  {
   "cell_type": "code",
   "execution_count": 78,
   "metadata": {},
   "outputs": [],
   "source": [
    "# DATA TYPE CONVERSIONS\n",
    "#\n",
    "# Set the datetime column to datetime data type\n",
    "raw_reviews_df['datetime'] = pd.to_datetime(raw_reviews_df['datetime'])\n"
   ]
  },
  {
   "cell_type": "code",
   "execution_count": 79,
   "metadata": {},
   "outputs": [],
   "source": [
    "# NEW COLUMN CREATION\n",
    "#\n",
    "# Create new date solumns - reviewYear as integer and reviewDate as string with format YYYY-MM\n",
    "raw_reviews_df['reviewYear'] = raw_reviews_df.apply(lambda row: row['datetime'].year, axis=1)\n",
    "raw_reviews_df['reviewYearMonth'] = raw_reviews_df.apply(lambda row: row['datetime'].strftime('%Y-%m'), axis=1)\n",
    "\n",
    "# Create simplified rating column - the first char of rating can be cast to integer 1-5\n",
    "raw_reviews_df['rating'] = raw_reviews_df.apply(lambda row: row['star_rating'][0], axis=1)"
   ]
  },
  {
   "cell_type": "code",
   "execution_count": 80,
   "metadata": {},
   "outputs": [
    {
     "output_type": "stream",
     "name": "stdout",
     "text": [
      "<class 'pandas.core.frame.DataFrame'>\nIndex: 1500 entries, a98cffff-99b6-4ab4-a17f-50e328c1fab3 to a6104a9d-a3a7-4655-a953-46174ce109a8\nData columns (total 7 columns):\n #   Column           Non-Null Count  Dtype              \n---  ------           --------------  -----              \n 0   star_rating      1500 non-null   object             \n 1   country          1500 non-null   object             \n 2   datetime         1500 non-null   datetime64[ns, UTC]\n 3   content          1500 non-null   object             \n 4   reviewYear       1500 non-null   int64              \n 5   reviewYearMonth  1500 non-null   object             \n 6   rating           1500 non-null   object             \ndtypes: datetime64[ns, UTC](1), int64(1), object(5)\nmemory usage: 93.8+ KB\n"
     ]
    }
   ],
   "source": [
    "raw_reviews_df.info()"
   ]
  },
  {
   "cell_type": "code",
   "execution_count": 81,
   "metadata": {},
   "outputs": [
    {
     "output_type": "execute_result",
     "data": {
      "text/plain": [
       "                                           star_rating country  \\\n",
       "id                                                               \n",
       "a98cffff-99b6-4ab4-a17f-50e328c1fab3  3 stars: Average      GB   \n",
       "\n",
       "                                                      datetime  \\\n",
       "id                                                               \n",
       "a98cffff-99b6-4ab4-a17f-50e328c1fab3 2021-06-21 07:42:01+00:00   \n",
       "\n",
       "                                                                                content  \\\n",
       "id                                                                                        \n",
       "a98cffff-99b6-4ab4-a17f-50e328c1fab3  The product itself is wonderful               ...   \n",
       "\n",
       "                                      reviewYear reviewYearMonth rating  \n",
       "id                                                                       \n",
       "a98cffff-99b6-4ab4-a17f-50e328c1fab3        2021         2021-06      3  "
      ],
      "text/html": "<div>\n<style scoped>\n    .dataframe tbody tr th:only-of-type {\n        vertical-align: middle;\n    }\n\n    .dataframe tbody tr th {\n        vertical-align: top;\n    }\n\n    .dataframe thead th {\n        text-align: right;\n    }\n</style>\n<table border=\"1\" class=\"dataframe\">\n  <thead>\n    <tr style=\"text-align: right;\">\n      <th></th>\n      <th>star_rating</th>\n      <th>country</th>\n      <th>datetime</th>\n      <th>content</th>\n      <th>reviewYear</th>\n      <th>reviewYearMonth</th>\n      <th>rating</th>\n    </tr>\n    <tr>\n      <th>id</th>\n      <th></th>\n      <th></th>\n      <th></th>\n      <th></th>\n      <th></th>\n      <th></th>\n      <th></th>\n    </tr>\n  </thead>\n  <tbody>\n    <tr>\n      <th>a98cffff-99b6-4ab4-a17f-50e328c1fab3</th>\n      <td>3 stars: Average</td>\n      <td>GB</td>\n      <td>2021-06-21 07:42:01+00:00</td>\n      <td>The product itself is wonderful               ...</td>\n      <td>2021</td>\n      <td>2021-06</td>\n      <td>3</td>\n    </tr>\n  </tbody>\n</table>\n</div>"
     },
     "metadata": {},
     "execution_count": 81
    }
   ],
   "source": [
    "raw_reviews_df.head(1)"
   ]
  },
  {
   "cell_type": "code",
   "execution_count": 82,
   "metadata": {},
   "outputs": [],
   "source": [
    "raw_reviews_df.to_csv('../data/prepped_reviews.csv', index=True, header=True)"
   ]
  },
  {
   "cell_type": "code",
   "execution_count": null,
   "metadata": {},
   "outputs": [],
   "source": []
  }
 ]
}